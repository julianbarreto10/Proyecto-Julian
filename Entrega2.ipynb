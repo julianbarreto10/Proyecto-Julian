{
 "cells": [
  {
   "cell_type": "markdown",
   "metadata": {},
   "source": [
    "## Entrega 2 Metodos de Computacion Estadistica"
   ]
  },
  {
   "cell_type": "markdown",
   "metadata": {},
   "source": [
    "**Julian Mauricio Rodriguez Barreto**"
   ]
  },
  {
   "cell_type": "code",
   "execution_count": 66,
   "metadata": {},
   "outputs": [],
   "source": [
    "import pandas as pd"
   ]
  },
  {
   "cell_type": "markdown",
   "metadata": {},
   "source": [
    "## ARchivo CSV en Github\n",
    "https://raw.githubusercontent.com/julianbarreto10/Proyecto-Julian/main/Est%20Bancario.csv\"\n"
   ]
  },
  {
   "cell_type": "code",
   "execution_count": 74,
   "metadata": {},
   "outputs": [
    {
     "data": {
      "text/html": [
       "<div>\n",
       "<style scoped>\n",
       "    .dataframe tbody tr th:only-of-type {\n",
       "        vertical-align: middle;\n",
       "    }\n",
       "\n",
       "    .dataframe tbody tr th {\n",
       "        vertical-align: top;\n",
       "    }\n",
       "\n",
       "    .dataframe thead th {\n",
       "        text-align: right;\n",
       "    }\n",
       "</style>\n",
       "<table border=\"1\" class=\"dataframe\">\n",
       "  <thead>\n",
       "    <tr style=\"text-align: right;\">\n",
       "      <th></th>\n",
       "      <th>Numero_Cuenta</th>\n",
       "      <th>Nombre</th>\n",
       "      <th>Saldo_Actual</th>\n",
       "      <th>Fecha_Última_Transacción</th>\n",
       "    </tr>\n",
       "  </thead>\n",
       "  <tbody>\n",
       "    <tr>\n",
       "      <th>0</th>\n",
       "      <td>21537540</td>\n",
       "      <td>Andrés  Suárez</td>\n",
       "      <td>8493380</td>\n",
       "      <td>14/04/2020</td>\n",
       "    </tr>\n",
       "    <tr>\n",
       "      <th>1</th>\n",
       "      <td>984629</td>\n",
       "      <td>Andrés  Suárez</td>\n",
       "      <td>8493380</td>\n",
       "      <td>12/04/2020</td>\n",
       "    </tr>\n",
       "    <tr>\n",
       "      <th>2</th>\n",
       "      <td>19393081</td>\n",
       "      <td>Andrés  Suárez</td>\n",
       "      <td>5845961</td>\n",
       "      <td>9/01/2019</td>\n",
       "    </tr>\n",
       "    <tr>\n",
       "      <th>3</th>\n",
       "      <td>5157622</td>\n",
       "      <td>Andrés  Suárez</td>\n",
       "      <td>5982616</td>\n",
       "      <td>2/01/2019</td>\n",
       "    </tr>\n",
       "    <tr>\n",
       "      <th>4</th>\n",
       "      <td>3266136</td>\n",
       "      <td>Andrés  Suárez p</td>\n",
       "      <td>13051209</td>\n",
       "      <td>24/10/2018</td>\n",
       "    </tr>\n",
       "    <tr>\n",
       "      <th>...</th>\n",
       "      <td>...</td>\n",
       "      <td>...</td>\n",
       "      <td>...</td>\n",
       "      <td>...</td>\n",
       "    </tr>\n",
       "    <tr>\n",
       "      <th>114</th>\n",
       "      <td>6187641</td>\n",
       "      <td>Adolfo Rivera Villalobos</td>\n",
       "      <td>9537521</td>\n",
       "      <td>1/01/2018</td>\n",
       "    </tr>\n",
       "    <tr>\n",
       "      <th>115</th>\n",
       "      <td>4424618</td>\n",
       "      <td>ADOLFO SUAREZ TORRES</td>\n",
       "      <td>22147798</td>\n",
       "      <td>30/10/2017</td>\n",
       "    </tr>\n",
       "    <tr>\n",
       "      <th>116</th>\n",
       "      <td>4656334</td>\n",
       "      <td>adolfo uneme burgos</td>\n",
       "      <td>13291199</td>\n",
       "      <td>30/10/2017</td>\n",
       "    </tr>\n",
       "    <tr>\n",
       "      <th>117</th>\n",
       "      <td>8617828</td>\n",
       "      <td>Adonai Mina Parra</td>\n",
       "      <td>470072</td>\n",
       "      <td>28/10/2017</td>\n",
       "    </tr>\n",
       "    <tr>\n",
       "      <th>118</th>\n",
       "      <td>10143337</td>\n",
       "      <td>Adonay Reyes  Ramírez</td>\n",
       "      <td>21093985</td>\n",
       "      <td>27/10/2017</td>\n",
       "    </tr>\n",
       "  </tbody>\n",
       "</table>\n",
       "<p>119 rows × 4 columns</p>\n",
       "</div>"
      ],
      "text/plain": [
       "     Numero_Cuenta                    Nombre  Saldo_Actual  \\\n",
       "0         21537540            Andrés  Suárez       8493380   \n",
       "1           984629            Andrés  Suárez       8493380   \n",
       "2         19393081            Andrés  Suárez       5845961   \n",
       "3          5157622            Andrés  Suárez       5982616   \n",
       "4          3266136         Andrés  Suárez p       13051209   \n",
       "..             ...                       ...           ...   \n",
       "114        6187641  Adolfo Rivera Villalobos       9537521   \n",
       "115        4424618      ADOLFO SUAREZ TORRES      22147798   \n",
       "116        4656334       adolfo uneme burgos      13291199   \n",
       "117        8617828         Adonai Mina Parra        470072   \n",
       "118       10143337     Adonay Reyes  Ramírez      21093985   \n",
       "\n",
       "    Fecha_Última_Transacción  \n",
       "0                 14/04/2020  \n",
       "1                 12/04/2020  \n",
       "2                  9/01/2019  \n",
       "3                  2/01/2019  \n",
       "4                 24/10/2018  \n",
       "..                       ...  \n",
       "114                1/01/2018  \n",
       "115               30/10/2017  \n",
       "116               30/10/2017  \n",
       "117               28/10/2017  \n",
       "118               27/10/2017  \n",
       "\n",
       "[119 rows x 4 columns]"
      ]
     },
     "execution_count": 74,
     "metadata": {},
     "output_type": "execute_result"
    }
   ],
   "source": [
    "url = \"https://raw.githubusercontent.com/julianbarreto10/Proyecto-Julian/main/Est%20Bancario.csv\"\n",
    "df= pd.read_csv(url)\n",
    "df"
   ]
  },
  {
   "cell_type": "markdown",
   "metadata": {},
   "source": [
    "## Clase Iterable:"
   ]
  },
  {
   "cell_type": "code",
   "execution_count": 72,
   "metadata": {},
   "outputs": [],
   "source": [
    "class SiguientesCuentas:\n",
    "    def __init__(self, numero_cuenta, sig):\n",
    "        self.url = \"https://raw.githubusercontent.com/julianbarreto10/Proyecto-Julian/main/Est%20Bancario.csv\"\n",
    "        self.df= pd.read_csv(self.url)\n",
    "        self.cuenta= numero_cuenta\n",
    "        self.sig = sig +1\n",
    "        self.ind = self.df.loc[self.df.Numero_Cuenta==self.cuenta,].index\n",
    "        self.val = 0\n",
    "    # Hace esta clase iterable\n",
    "    def __iter__(self):\n",
    "        return self\n",
    "    \n",
    "    # Hace esta clase un iterador\n",
    "    def __next__(self):\n",
    "        if self.sig == self.val:\n",
    "            raise StopIteration\n",
    "        else:\n",
    "            return_val = self.val\n",
    "            self.val += 1\n",
    "            return print(self.df.iloc[self.ind[0]+return_val,])"
   ]
  },
  {
   "cell_type": "markdown",
   "metadata": {},
   "source": [
    "### Informacion Clase\n",
    "SiguientesCuentas(numero_cuenta, sig):\n",
    "\n",
    "    numero_cuenta = \"Se introduce el numero de cuenta\"\n",
    "    \n",
    "    sig = \"Numero de cuentas siguientes que desea consultar\""
   ]
  },
  {
   "cell_type": "code",
   "execution_count": 73,
   "metadata": {},
   "outputs": [
    {
     "name": "stdout",
     "output_type": "stream",
     "text": [
      "Numero_Cuenta                       984629\n",
      "Nombre                      Andrés  Suárez\n",
      "Saldo_Actual                       8493380\n",
      "Fecha_Última_Transacción        12/04/2020\n",
      "Name: 1, dtype: object\n",
      "None\n",
      "Siguiente cuenta: \n",
      "Numero_Cuenta                     19393081\n",
      "Nombre                      Andrés  Suárez\n",
      "Saldo_Actual                       5845961\n",
      "Fecha_Última_Transacción         9/01/2019\n",
      "Name: 2, dtype: object\n",
      "None\n",
      "Siguiente cuenta: \n"
     ]
    }
   ],
   "source": [
    "for i in SiguientesCuentas(984629,1):\n",
    "    print(i)\n",
    "    print('Siguiente cuenta: ')"
   ]
  },
  {
   "cell_type": "markdown",
   "metadata": {},
   "source": [
    "## Ejercicios Colecciones"
   ]
  },
  {
   "cell_type": "markdown",
   "metadata": {},
   "source": [
    "Creee una lista del 1 al 5 y concatenela con una del 6 al 10 de tal manera que quede  una nueva lista con los numeros del 1 al 10"
   ]
  },
  {
   "cell_type": "code",
   "execution_count": 2,
   "metadata": {},
   "outputs": [
    {
     "name": "stdout",
     "output_type": "stream",
     "text": [
      "[1, 2, 3, 4, 5]\n",
      "[6, 7, 8, 9, 10]\n",
      "Nueva lista:\n",
      "[1, 2, 3, 4, 5, 6, 7, 8, 9, 10]\n"
     ]
    }
   ],
   "source": [
    "a=list(range(1,6))\n",
    "print(a)\n",
    "b=list(range(6,11))\n",
    "print(b)\n",
    "print('Nueva lista:')\n",
    "print(a+b)"
   ]
  }
 ],
 "metadata": {
  "kernelspec": {
   "display_name": "Python 3.8.8 ('base')",
   "language": "python",
   "name": "python3"
  },
  "language_info": {
   "codemirror_mode": {
    "name": "ipython",
    "version": 3
   },
   "file_extension": ".py",
   "mimetype": "text/x-python",
   "name": "python",
   "nbconvert_exporter": "python",
   "pygments_lexer": "ipython3",
   "version": "3.8.8"
  },
  "vscode": {
   "interpreter": {
    "hash": "71a0f32d2c33289906f4a43debac9b817099b0fd2884ab91b938532a7791fb98"
   }
  }
 },
 "nbformat": 4,
 "nbformat_minor": 4
}
